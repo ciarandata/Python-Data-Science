{
 "cells": [
  {
   "cell_type": "markdown",
   "metadata": {},
   "source": [
    "## Applied Machine Learning Assignment 1\n",
    "### Ciarán Dee\n",
    "### R00207862 "
   ]
  },
  {
   "cell_type": "code",
   "execution_count": 1,
   "metadata": {},
   "outputs": [],
   "source": [
    "import pandas as pd\n",
    "import codecs\n",
    "import re\n",
    "from math import log\n",
    "import time\n",
    "import matplotlib.pyplot as plt\n",
    "import numpy as np\n",
    "import glob\n",
    "import random\n",
    "import seaborn as sns\n",
    "from spacy.util import minibatch\n",
    "import spacy\n",
    "from joblib import dump\n",
    "from collections import Counter\n",
    "import collections\n",
    "import pickle\n",
    "import itertools\n",
    "\n",
    "from nltk.corpus import stopwords\n",
    "from wordcloud import WordCloud, STOPWORDS, ImageColorGenerator\n",
    "from nltk import WordNetLemmatizer\n",
    "from nltk.tokenize import RegexpTokenizer\n",
    "import nltk\n",
    "\n",
    "from sklearn import svm\n",
    "from sklearn.metrics import accuracy_score\n",
    "from sklearn.metrics import confusion_matrix\n",
    "from sklearn.model_selection import train_test_split\n",
    "from sklearn.metrics import classification_report\n",
    "from sklearn.pipeline import make_pipeline\n",
    "from sklearn.feature_extraction.text import CountVectorizer\n",
    "from sklearn.feature_extraction.text import TfidfTransformer\n",
    "from sklearn.feature_extraction.text import TfidfVectorizer\n",
    "from sklearn.naive_bayes import GaussianNB\n",
    "from sklearn.naive_bayes import MultinomialNB\n",
    "from sklearn.linear_model import LogisticRegression\n",
    "from sklearn.base import TransformerMixin\n",
    "from sklearn.utils import shuffle\n",
    "from sklearn import preprocessing\n",
    "from sklearn.metrics import recall_score\n",
    "from sklearn.ensemble import RandomForestClassifier as RFC\n",
    "from sklearn.metrics import f1_score\n",
    "from sklearn import metrics\n",
    "from sklearn.metrics import plot_confusion_matrix"
   ]
  },
  {
   "cell_type": "markdown",
   "metadata": {},
   "source": [
    "###  Preproccessing\n",
    "Load in our datasets and perform some pre-processing, including removing duplicates, merging spam and non-spam datasets once converted to pandas dataframes, and the data is shuffled. Then a train-test-split is performed giving 70% training, and a 30% test "
   ]
  },
  {
   "cell_type": "code",
   "execution_count": 2,
   "metadata": {},
   "outputs": [],
   "source": [
    "#load in the data and transform into a oandas dataset and define the columns for the non-spam(ham) file\n",
    "pathHam = 'C:\\\\Users\\\\irene\\\\Downloads\\\\enron1\\\\ham\\\\*.txt'\n",
    "fileListHam = glob.glob(pathHam)\n",
    "list_Ham = []\n",
    "\n",
    "for fileHam in fileListHam:\n",
    "    with open(fileHam) as file:\n",
    "        list_Ham.append(file.read())\n",
    "        \n",
    "ham=pd.DataFrame(list_Ham, columns=[\"emails\"])\n",
    "ham[\"target\"]=0"
   ]
  },
  {
   "cell_type": "code",
   "execution_count": 3,
   "metadata": {},
   "outputs": [
    {
     "data": {
      "text/html": [
       "<div>\n",
       "<style scoped>\n",
       "    .dataframe tbody tr th:only-of-type {\n",
       "        vertical-align: middle;\n",
       "    }\n",
       "\n",
       "    .dataframe tbody tr th {\n",
       "        vertical-align: top;\n",
       "    }\n",
       "\n",
       "    .dataframe thead th {\n",
       "        text-align: right;\n",
       "    }\n",
       "</style>\n",
       "<table border=\"1\" class=\"dataframe\">\n",
       "  <thead>\n",
       "    <tr style=\"text-align: right;\">\n",
       "      <th></th>\n",
       "      <th>emails</th>\n",
       "      <th>target</th>\n",
       "    </tr>\n",
       "  </thead>\n",
       "  <tbody>\n",
       "    <tr>\n",
       "      <th>0</th>\n",
       "      <td>Subject: christmas tree farm pictures\\n</td>\n",
       "      <td>0</td>\n",
       "    </tr>\n",
       "    <tr>\n",
       "      <th>1</th>\n",
       "      <td>Subject: vastar resources , inc .\\ngary , prod...</td>\n",
       "      <td>0</td>\n",
       "    </tr>\n",
       "    <tr>\n",
       "      <th>3</th>\n",
       "      <td>Subject: re : issue\\nfyi - see note below - al...</td>\n",
       "      <td>0</td>\n",
       "    </tr>\n",
       "    <tr>\n",
       "      <th>4</th>\n",
       "      <td>Subject: meter 7268 nov allocation\\nfyi .\\n- -...</td>\n",
       "      <td>0</td>\n",
       "    </tr>\n",
       "    <tr>\n",
       "      <th>5</th>\n",
       "      <td>Subject: mcmullen gas for 11 / 99\\njackie ,\\ns...</td>\n",
       "      <td>0</td>\n",
       "    </tr>\n",
       "    <tr>\n",
       "      <th>...</th>\n",
       "      <td>...</td>\n",
       "      <td>...</td>\n",
       "    </tr>\n",
       "    <tr>\n",
       "      <th>3667</th>\n",
       "      <td>Subject: re : tenaska iv\\ni ' ll call you on t...</td>\n",
       "      <td>0</td>\n",
       "    </tr>\n",
       "    <tr>\n",
       "      <th>3668</th>\n",
       "      <td>Subject: generic contract\\nhi daren ,\\nsorry f...</td>\n",
       "      <td>0</td>\n",
       "    </tr>\n",
       "    <tr>\n",
       "      <th>3669</th>\n",
       "      <td>Subject: re : contracts and credit\\nthanks - -...</td>\n",
       "      <td>0</td>\n",
       "    </tr>\n",
       "    <tr>\n",
       "      <th>3670</th>\n",
       "      <td>Subject: re : tenaska iv\\nok , since we don ' ...</td>\n",
       "      <td>0</td>\n",
       "    </tr>\n",
       "    <tr>\n",
       "      <th>3672</th>\n",
       "      <td>Subject: re : tenaska iv\\ni tried calling you ...</td>\n",
       "      <td>0</td>\n",
       "    </tr>\n",
       "  </tbody>\n",
       "</table>\n",
       "<p>3531 rows × 2 columns</p>\n",
       "</div>"
      ],
      "text/plain": [
       "                                                 emails  target\n",
       "0               Subject: christmas tree farm pictures\\n       0\n",
       "1     Subject: vastar resources , inc .\\ngary , prod...       0\n",
       "3     Subject: re : issue\\nfyi - see note below - al...       0\n",
       "4     Subject: meter 7268 nov allocation\\nfyi .\\n- -...       0\n",
       "5     Subject: mcmullen gas for 11 / 99\\njackie ,\\ns...       0\n",
       "...                                                 ...     ...\n",
       "3667  Subject: re : tenaska iv\\ni ' ll call you on t...       0\n",
       "3668  Subject: generic contract\\nhi daren ,\\nsorry f...       0\n",
       "3669  Subject: re : contracts and credit\\nthanks - -...       0\n",
       "3670  Subject: re : tenaska iv\\nok , since we don ' ...       0\n",
       "3672  Subject: re : tenaska iv\\ni tried calling you ...       0\n",
       "\n",
       "[3531 rows x 2 columns]"
      ]
     },
     "execution_count": 3,
     "metadata": {},
     "output_type": "execute_result"
    }
   ],
   "source": [
    "##check for duplicates and drop if necessary, keep laast so it doesn't auto remove last row\n",
    "ham.drop_duplicates(keep=\"last\")"
   ]
  },
  {
   "cell_type": "code",
   "execution_count": 4,
   "metadata": {},
   "outputs": [
    {
     "name": "stdout",
     "output_type": "stream",
     "text": [
      "<class 'pandas.core.frame.DataFrame'>\n",
      "RangeIndex: 3673 entries, 0 to 3672\n",
      "Data columns (total 2 columns):\n",
      " #   Column  Non-Null Count  Dtype \n",
      "---  ------  --------------  ----- \n",
      " 0   emails  3673 non-null   object\n",
      " 1   target  3673 non-null   int64 \n",
      "dtypes: int64(1), object(1)\n",
      "memory usage: 57.5+ KB\n"
     ]
    }
   ],
   "source": [
    "ham.info()"
   ]
  },
  {
   "cell_type": "code",
   "execution_count": 5,
   "metadata": {},
   "outputs": [
    {
     "data": {
      "text/html": [
       "<div>\n",
       "<style scoped>\n",
       "    .dataframe tbody tr th:only-of-type {\n",
       "        vertical-align: middle;\n",
       "    }\n",
       "\n",
       "    .dataframe tbody tr th {\n",
       "        vertical-align: top;\n",
       "    }\n",
       "\n",
       "    .dataframe thead th {\n",
       "        text-align: right;\n",
       "    }\n",
       "</style>\n",
       "<table border=\"1\" class=\"dataframe\">\n",
       "  <thead>\n",
       "    <tr style=\"text-align: right;\">\n",
       "      <th></th>\n",
       "      <th>emails</th>\n",
       "      <th>target</th>\n",
       "    </tr>\n",
       "  </thead>\n",
       "  <tbody>\n",
       "    <tr>\n",
       "      <th>0</th>\n",
       "      <td>Subject: christmas tree farm pictures\\n</td>\n",
       "      <td>0</td>\n",
       "    </tr>\n",
       "    <tr>\n",
       "      <th>1</th>\n",
       "      <td>Subject: vastar resources , inc .\\ngary , prod...</td>\n",
       "      <td>0</td>\n",
       "    </tr>\n",
       "    <tr>\n",
       "      <th>2</th>\n",
       "      <td>Subject: calpine daily gas nomination\\n- calpi...</td>\n",
       "      <td>0</td>\n",
       "    </tr>\n",
       "    <tr>\n",
       "      <th>3</th>\n",
       "      <td>Subject: re : issue\\nfyi - see note below - al...</td>\n",
       "      <td>0</td>\n",
       "    </tr>\n",
       "    <tr>\n",
       "      <th>4</th>\n",
       "      <td>Subject: meter 7268 nov allocation\\nfyi .\\n- -...</td>\n",
       "      <td>0</td>\n",
       "    </tr>\n",
       "  </tbody>\n",
       "</table>\n",
       "</div>"
      ],
      "text/plain": [
       "                                              emails  target\n",
       "0            Subject: christmas tree farm pictures\\n       0\n",
       "1  Subject: vastar resources , inc .\\ngary , prod...       0\n",
       "2  Subject: calpine daily gas nomination\\n- calpi...       0\n",
       "3  Subject: re : issue\\nfyi - see note below - al...       0\n",
       "4  Subject: meter 7268 nov allocation\\nfyi .\\n- -...       0"
      ]
     },
     "execution_count": 5,
     "metadata": {},
     "output_type": "execute_result"
    }
   ],
   "source": [
    "#view ham dataset top 5 to chack data is looking okay\n",
    "ham.head()"
   ]
  },
  {
   "cell_type": "code",
   "execution_count": 6,
   "metadata": {},
   "outputs": [],
   "source": [
    "##load in the data and transform into a oandas dataset and define the columns for the spam file\n",
    "pathSpam = 'C:\\\\Users\\\\irene\\\\Downloads\\\\enron1\\\\spam\\\\*.txt'\n",
    "fileListSpam = glob.glob(pathSpam)\n",
    "list_Spam = []\n",
    "\n",
    "for fileSpam in fileListSpam:\n",
    "    with open(fileSpam, encoding=\"Latin-1\") as f:\n",
    "        list_Spam.append(f.read())\n",
    "        \n",
    "spam=pd.DataFrame(list_Spam, columns=[\"emails\"])\n",
    "spam[\"target\"]=1"
   ]
  },
  {
   "cell_type": "code",
   "execution_count": 7,
   "metadata": {},
   "outputs": [
    {
     "data": {
      "text/html": [
       "<div>\n",
       "<style scoped>\n",
       "    .dataframe tbody tr th:only-of-type {\n",
       "        vertical-align: middle;\n",
       "    }\n",
       "\n",
       "    .dataframe tbody tr th {\n",
       "        vertical-align: top;\n",
       "    }\n",
       "\n",
       "    .dataframe thead th {\n",
       "        text-align: right;\n",
       "    }\n",
       "</style>\n",
       "<table border=\"1\" class=\"dataframe\">\n",
       "  <thead>\n",
       "    <tr style=\"text-align: right;\">\n",
       "      <th></th>\n",
       "      <th>emails</th>\n",
       "      <th>target</th>\n",
       "    </tr>\n",
       "  </thead>\n",
       "  <tbody>\n",
       "    <tr>\n",
       "      <th>0</th>\n",
       "      <td>Subject: dobmeos with hgh my energy level has ...</td>\n",
       "      <td>1</td>\n",
       "    </tr>\n",
       "    <tr>\n",
       "      <th>1</th>\n",
       "      <td>Subject: your prescription is ready . . oxwq s...</td>\n",
       "      <td>1</td>\n",
       "    </tr>\n",
       "    <tr>\n",
       "      <th>2</th>\n",
       "      <td>Subject: get that new car 8434\\npeople nowthe ...</td>\n",
       "      <td>1</td>\n",
       "    </tr>\n",
       "    <tr>\n",
       "      <th>3</th>\n",
       "      <td>Subject: await your response\\ndear partner ,\\n...</td>\n",
       "      <td>1</td>\n",
       "    </tr>\n",
       "    <tr>\n",
       "      <th>4</th>\n",
       "      <td>Subject: coca cola , mbna america , nascar par...</td>\n",
       "      <td>1</td>\n",
       "    </tr>\n",
       "  </tbody>\n",
       "</table>\n",
       "</div>"
      ],
      "text/plain": [
       "                                              emails  target\n",
       "0  Subject: dobmeos with hgh my energy level has ...       1\n",
       "1  Subject: your prescription is ready . . oxwq s...       1\n",
       "2  Subject: get that new car 8434\\npeople nowthe ...       1\n",
       "3  Subject: await your response\\ndear partner ,\\n...       1\n",
       "4  Subject: coca cola , mbna america , nascar par...       1"
      ]
     },
     "execution_count": 7,
     "metadata": {},
     "output_type": "execute_result"
    }
   ],
   "source": [
    "#view spam dataset top 5 to chack data is looking okay\n",
    "spam.head()"
   ]
  },
  {
   "cell_type": "code",
   "execution_count": 8,
   "metadata": {},
   "outputs": [
    {
     "data": {
      "text/html": [
       "<div>\n",
       "<style scoped>\n",
       "    .dataframe tbody tr th:only-of-type {\n",
       "        vertical-align: middle;\n",
       "    }\n",
       "\n",
       "    .dataframe tbody tr th {\n",
       "        vertical-align: top;\n",
       "    }\n",
       "\n",
       "    .dataframe thead th {\n",
       "        text-align: right;\n",
       "    }\n",
       "</style>\n",
       "<table border=\"1\" class=\"dataframe\">\n",
       "  <thead>\n",
       "    <tr style=\"text-align: right;\">\n",
       "      <th></th>\n",
       "      <th>emails</th>\n",
       "      <th>target</th>\n",
       "    </tr>\n",
       "  </thead>\n",
       "  <tbody>\n",
       "    <tr>\n",
       "      <th>0</th>\n",
       "      <td>Subject: dobmeos with hgh my energy level has ...</td>\n",
       "      <td>1</td>\n",
       "    </tr>\n",
       "    <tr>\n",
       "      <th>1</th>\n",
       "      <td>Subject: your prescription is ready . . oxwq s...</td>\n",
       "      <td>1</td>\n",
       "    </tr>\n",
       "    <tr>\n",
       "      <th>2</th>\n",
       "      <td>Subject: get that new car 8434\\npeople nowthe ...</td>\n",
       "      <td>1</td>\n",
       "    </tr>\n",
       "    <tr>\n",
       "      <th>3</th>\n",
       "      <td>Subject: await your response\\ndear partner ,\\n...</td>\n",
       "      <td>1</td>\n",
       "    </tr>\n",
       "    <tr>\n",
       "      <th>4</th>\n",
       "      <td>Subject: coca cola , mbna america , nascar par...</td>\n",
       "      <td>1</td>\n",
       "    </tr>\n",
       "    <tr>\n",
       "      <th>...</th>\n",
       "      <td>...</td>\n",
       "      <td>...</td>\n",
       "    </tr>\n",
       "    <tr>\n",
       "      <th>1495</th>\n",
       "      <td>Subject: our pro - forma invoice attached\\ndiv...</td>\n",
       "      <td>1</td>\n",
       "    </tr>\n",
       "    <tr>\n",
       "      <th>1496</th>\n",
       "      <td>Subject: str _ rndlen ( 2 - 4 ) } { extra _ ti...</td>\n",
       "      <td>1</td>\n",
       "    </tr>\n",
       "    <tr>\n",
       "      <th>1497</th>\n",
       "      <td>Subject: check me out !\\n61 bb\\nhey derm\\nbbbb...</td>\n",
       "      <td>1</td>\n",
       "    </tr>\n",
       "    <tr>\n",
       "      <th>1498</th>\n",
       "      <td>Subject: hot jobs\\nglobal marketing specialtie...</td>\n",
       "      <td>1</td>\n",
       "    </tr>\n",
       "    <tr>\n",
       "      <th>1499</th>\n",
       "      <td>Subject: save up to 89 % on ink + no shipping ...</td>\n",
       "      <td>1</td>\n",
       "    </tr>\n",
       "  </tbody>\n",
       "</table>\n",
       "<p>1463 rows × 2 columns</p>\n",
       "</div>"
      ],
      "text/plain": [
       "                                                 emails  target\n",
       "0     Subject: dobmeos with hgh my energy level has ...       1\n",
       "1     Subject: your prescription is ready . . oxwq s...       1\n",
       "2     Subject: get that new car 8434\\npeople nowthe ...       1\n",
       "3     Subject: await your response\\ndear partner ,\\n...       1\n",
       "4     Subject: coca cola , mbna america , nascar par...       1\n",
       "...                                                 ...     ...\n",
       "1495  Subject: our pro - forma invoice attached\\ndiv...       1\n",
       "1496  Subject: str _ rndlen ( 2 - 4 ) } { extra _ ti...       1\n",
       "1497  Subject: check me out !\\n61 bb\\nhey derm\\nbbbb...       1\n",
       "1498  Subject: hot jobs\\nglobal marketing specialtie...       1\n",
       "1499  Subject: save up to 89 % on ink + no shipping ...       1\n",
       "\n",
       "[1463 rows x 2 columns]"
      ]
     },
     "execution_count": 8,
     "metadata": {},
     "output_type": "execute_result"
    }
   ],
   "source": [
    "spam.drop_duplicates(keep=\"last\")"
   ]
  },
  {
   "cell_type": "code",
   "execution_count": 9,
   "metadata": {},
   "outputs": [
    {
     "name": "stdout",
     "output_type": "stream",
     "text": [
      "<class 'pandas.core.frame.DataFrame'>\n",
      "RangeIndex: 1500 entries, 0 to 1499\n",
      "Data columns (total 2 columns):\n",
      " #   Column  Non-Null Count  Dtype \n",
      "---  ------  --------------  ----- \n",
      " 0   emails  1500 non-null   object\n",
      " 1   target  1500 non-null   int64 \n",
      "dtypes: int64(1), object(1)\n",
      "memory usage: 23.6+ KB\n"
     ]
    }
   ],
   "source": [
    "spam.info()"
   ]
  },
  {
   "cell_type": "code",
   "execution_count": 10,
   "metadata": {},
   "outputs": [],
   "source": [
    "#combine the spam and ham datasets into one combined dataset using pandas concantenate\n",
    "emailCom = pd.concat([ham,spam])\n",
    "# shuffle rows \n",
    "emailCom = emailCom.sample(frac=1).reset_index(drop=True)"
   ]
  },
  {
   "cell_type": "code",
   "execution_count": 11,
   "metadata": {},
   "outputs": [
    {
     "data": {
      "text/html": [
       "<div>\n",
       "<style scoped>\n",
       "    .dataframe tbody tr th:only-of-type {\n",
       "        vertical-align: middle;\n",
       "    }\n",
       "\n",
       "    .dataframe tbody tr th {\n",
       "        vertical-align: top;\n",
       "    }\n",
       "\n",
       "    .dataframe thead th {\n",
       "        text-align: right;\n",
       "    }\n",
       "</style>\n",
       "<table border=\"1\" class=\"dataframe\">\n",
       "  <thead>\n",
       "    <tr style=\"text-align: right;\">\n",
       "      <th></th>\n",
       "      <th>emails</th>\n",
       "      <th>target</th>\n",
       "    </tr>\n",
       "  </thead>\n",
       "  <tbody>\n",
       "    <tr>\n",
       "      <th>0</th>\n",
       "      <td>Subject: cute gals seeking love\\nfinally a pla...</td>\n",
       "      <td>1</td>\n",
       "    </tr>\n",
       "    <tr>\n",
       "      <th>1</th>\n",
       "      <td>Subject: lst rev mar . 2000 josey ranch nom\\n-...</td>\n",
       "      <td>0</td>\n",
       "    </tr>\n",
       "    <tr>\n",
       "      <th>2</th>\n",
       "      <td>Subject: meter 981594 - san jacinto low pressu...</td>\n",
       "      <td>0</td>\n",
       "    </tr>\n",
       "    <tr>\n",
       "      <th>3</th>\n",
       "      <td>Subject: duke cashout entries 5 / 00 and 6 / 0...</td>\n",
       "      <td>0</td>\n",
       "    </tr>\n",
       "    <tr>\n",
       "      <th>4</th>\n",
       "      <td>Subject: v - i - a - g - r - a is lousy ? ? ? ...</td>\n",
       "      <td>1</td>\n",
       "    </tr>\n",
       "    <tr>\n",
       "      <th>...</th>\n",
       "      <td>...</td>\n",
       "      <td>...</td>\n",
       "    </tr>\n",
       "    <tr>\n",
       "      <th>5168</th>\n",
       "      <td>Subject: updated for october\\nhere ya go . if ...</td>\n",
       "      <td>0</td>\n",
       "    </tr>\n",
       "    <tr>\n",
       "      <th>5169</th>\n",
       "      <td>Subject: re : noms / actual vols for may lst\\n...</td>\n",
       "      <td>0</td>\n",
       "    </tr>\n",
       "    <tr>\n",
       "      <th>5170</th>\n",
       "      <td>Subject: fw : on call\\n- - - - - original mess...</td>\n",
       "      <td>0</td>\n",
       "    </tr>\n",
       "    <tr>\n",
       "      <th>5171</th>\n",
       "      <td>Subject: i will be out next week\\nimbalances :...</td>\n",
       "      <td>0</td>\n",
       "    </tr>\n",
       "    <tr>\n",
       "      <th>5172</th>\n",
       "      <td>Subject: re : fuel\\nwe need to discuss further...</td>\n",
       "      <td>0</td>\n",
       "    </tr>\n",
       "  </tbody>\n",
       "</table>\n",
       "<p>5173 rows × 2 columns</p>\n",
       "</div>"
      ],
      "text/plain": [
       "                                                 emails  target\n",
       "0     Subject: cute gals seeking love\\nfinally a pla...       1\n",
       "1     Subject: lst rev mar . 2000 josey ranch nom\\n-...       0\n",
       "2     Subject: meter 981594 - san jacinto low pressu...       0\n",
       "3     Subject: duke cashout entries 5 / 00 and 6 / 0...       0\n",
       "4     Subject: v - i - a - g - r - a is lousy ? ? ? ...       1\n",
       "...                                                 ...     ...\n",
       "5168  Subject: updated for october\\nhere ya go . if ...       0\n",
       "5169  Subject: re : noms / actual vols for may lst\\n...       0\n",
       "5170  Subject: fw : on call\\n- - - - - original mess...       0\n",
       "5171  Subject: i will be out next week\\nimbalances :...       0\n",
       "5172  Subject: re : fuel\\nwe need to discuss further...       0\n",
       "\n",
       "[5173 rows x 2 columns]"
      ]
     },
     "execution_count": 11,
     "metadata": {},
     "output_type": "execute_result"
    }
   ],
   "source": [
    "#chack the combined has both spam and non-spam emails\n",
    "emailCom"
   ]
  },
  {
   "cell_type": "markdown",
   "metadata": {},
   "source": [
    "### Train Test Split\n",
    "https://scikit-learn.org/stable/modules/generated/sklearn.model_selection.train_test_split.html?highlight=train%20test%20split#sklearn.model_selection.train_test_split"
   ]
  },
  {
   "cell_type": "code",
   "execution_count": 12,
   "metadata": {},
   "outputs": [],
   "source": [
    "#perfrom the train test split 70% train and 30% test, random state for reproducibility\n",
    "X_train, X_test, Y_train, Y_test = train_test_split(emailCom['emails'],emailCom['target'], train_size= .7, random_state = 862)"
   ]
  },
  {
   "cell_type": "code",
   "execution_count": 13,
   "metadata": {},
   "outputs": [
    {
     "data": {
      "text/plain": [
       "2311    0\n",
       "1023    1\n",
       "3263    0\n",
       "4395    0\n",
       "1268    1\n",
       "       ..\n",
       "4968    0\n",
       "3929    1\n",
       "160     0\n",
       "3749    0\n",
       "172     0\n",
       "Name: target, Length: 3621, dtype: int64"
      ]
     },
     "execution_count": 13,
     "metadata": {},
     "output_type": "execute_result"
    }
   ],
   "source": [
    "Y_train"
   ]
  },
  {
   "cell_type": "code",
   "execution_count": 14,
   "metadata": {},
   "outputs": [],
   "source": [
    "# create a combined dataset of the training data \n",
    "training = pd.concat([X_train, Y_train], axis=1)\n",
    "training.to_csv(\"training.csv\", sep='\\t', encoding='utf-8', index=True)"
   ]
  },
  {
   "cell_type": "code",
   "execution_count": 15,
   "metadata": {},
   "outputs": [
    {
     "data": {
      "text/html": [
       "<div>\n",
       "<style scoped>\n",
       "    .dataframe tbody tr th:only-of-type {\n",
       "        vertical-align: middle;\n",
       "    }\n",
       "\n",
       "    .dataframe tbody tr th {\n",
       "        vertical-align: top;\n",
       "    }\n",
       "\n",
       "    .dataframe thead th {\n",
       "        text-align: right;\n",
       "    }\n",
       "</style>\n",
       "<table border=\"1\" class=\"dataframe\">\n",
       "  <thead>\n",
       "    <tr style=\"text-align: right;\">\n",
       "      <th></th>\n",
       "      <th>emails</th>\n",
       "      <th>target</th>\n",
       "    </tr>\n",
       "  </thead>\n",
       "  <tbody>\n",
       "    <tr>\n",
       "      <th>2311</th>\n",
       "      <td>Subject: final cp name change and merger repor...</td>\n",
       "      <td>0</td>\n",
       "    </tr>\n",
       "    <tr>\n",
       "      <th>1023</th>\n",
       "      <td>Subject: russian girls sex ! only teens !\\nhi ...</td>\n",
       "      <td>1</td>\n",
       "    </tr>\n",
       "    <tr>\n",
       "      <th>3263</th>\n",
       "      <td>Subject: hpl nom for june 7 , 2000\\n( see atta...</td>\n",
       "      <td>0</td>\n",
       "    </tr>\n",
       "    <tr>\n",
       "      <th>4395</th>\n",
       "      <td>Subject: re : ua 4\\nwhat is the status on this...</td>\n",
       "      <td>0</td>\n",
       "    </tr>\n",
       "    <tr>\n",
       "      <th>1268</th>\n",
       "      <td>Subject: cfp : int . conf . on web delivering ...</td>\n",
       "      <td>1</td>\n",
       "    </tr>\n",
       "    <tr>\n",
       "      <th>...</th>\n",
       "      <td>...</td>\n",
       "      <td>...</td>\n",
       "    </tr>\n",
       "    <tr>\n",
       "      <th>4968</th>\n",
       "      <td>Subject: re : 98 - 1601\\njanet ,\\n. 16 decathe...</td>\n",
       "      <td>0</td>\n",
       "    </tr>\n",
       "    <tr>\n",
       "      <th>3929</th>\n",
       "      <td>Subject: [ 89 ] security warning ! [ 18 ]\\nput...</td>\n",
       "      <td>1</td>\n",
       "    </tr>\n",
       "    <tr>\n",
       "      <th>160</th>\n",
       "      <td>Subject: calpine daily and monthly nomination\\...</td>\n",
       "      <td>0</td>\n",
       "    </tr>\n",
       "    <tr>\n",
       "      <th>3749</th>\n",
       "      <td>Subject: feb 01 prod : sale to teco gas proces...</td>\n",
       "      <td>0</td>\n",
       "    </tr>\n",
       "    <tr>\n",
       "      <th>172</th>\n",
       "      <td>Subject: duke energy field 8 / 00\\nplease chan...</td>\n",
       "      <td>0</td>\n",
       "    </tr>\n",
       "  </tbody>\n",
       "</table>\n",
       "<p>3621 rows × 2 columns</p>\n",
       "</div>"
      ],
      "text/plain": [
       "                                                 emails  target\n",
       "2311  Subject: final cp name change and merger repor...       0\n",
       "1023  Subject: russian girls sex ! only teens !\\nhi ...       1\n",
       "3263  Subject: hpl nom for june 7 , 2000\\n( see atta...       0\n",
       "4395  Subject: re : ua 4\\nwhat is the status on this...       0\n",
       "1268  Subject: cfp : int . conf . on web delivering ...       1\n",
       "...                                                 ...     ...\n",
       "4968  Subject: re : 98 - 1601\\njanet ,\\n. 16 decathe...       0\n",
       "3929  Subject: [ 89 ] security warning ! [ 18 ]\\nput...       1\n",
       "160   Subject: calpine daily and monthly nomination\\...       0\n",
       "3749  Subject: feb 01 prod : sale to teco gas proces...       0\n",
       "172   Subject: duke energy field 8 / 00\\nplease chan...       0\n",
       "\n",
       "[3621 rows x 2 columns]"
      ]
     },
     "execution_count": 15,
     "metadata": {},
     "output_type": "execute_result"
    }
   ],
   "source": [
    "#view combined traing data\n",
    "training"
   ]
  },
  {
   "cell_type": "code",
   "execution_count": 16,
   "metadata": {},
   "outputs": [],
   "source": [
    "#combined test dataset\n",
    "testing = pd.concat([X_test,Y_test], axis=1)\n",
    "testing.to_csv('testing.csv', sep='\\t',encoding='utf-8',index=False)"
   ]
  },
  {
   "cell_type": "code",
   "execution_count": 17,
   "metadata": {},
   "outputs": [
    {
     "data": {
      "text/html": [
       "<div>\n",
       "<style scoped>\n",
       "    .dataframe tbody tr th:only-of-type {\n",
       "        vertical-align: middle;\n",
       "    }\n",
       "\n",
       "    .dataframe tbody tr th {\n",
       "        vertical-align: top;\n",
       "    }\n",
       "\n",
       "    .dataframe thead th {\n",
       "        text-align: right;\n",
       "    }\n",
       "</style>\n",
       "<table border=\"1\" class=\"dataframe\">\n",
       "  <thead>\n",
       "    <tr style=\"text-align: right;\">\n",
       "      <th></th>\n",
       "      <th>emails</th>\n",
       "      <th>target</th>\n",
       "    </tr>\n",
       "  </thead>\n",
       "  <tbody>\n",
       "    <tr>\n",
       "      <th>2020</th>\n",
       "      <td>Subject: hpl nomination for 02 / 23 / 2000\\nse...</td>\n",
       "      <td>0</td>\n",
       "    </tr>\n",
       "    <tr>\n",
       "      <th>3010</th>\n",
       "      <td>Subject: resume - anna cola\\nanna cola is thro...</td>\n",
       "      <td>0</td>\n",
       "    </tr>\n",
       "    <tr>\n",
       "      <th>2598</th>\n",
       "      <td>Subject: team room\\n- - - - - - - - - - - - - ...</td>\n",
       "      <td>0</td>\n",
       "    </tr>\n",
       "    <tr>\n",
       "      <th>1757</th>\n",
       "      <td>Subject: calpine daily and monthly gas nominat...</td>\n",
       "      <td>0</td>\n",
       "    </tr>\n",
       "    <tr>\n",
       "      <th>3264</th>\n",
       "      <td>Subject: 9 th noms\\n- - - - - - - - - - - - - ...</td>\n",
       "      <td>0</td>\n",
       "    </tr>\n",
       "    <tr>\n",
       "      <th>...</th>\n",
       "      <td>...</td>\n",
       "      <td>...</td>\n",
       "    </tr>\n",
       "    <tr>\n",
       "      <th>3687</th>\n",
       "      <td>Subject: tenaska 2 / 01\\nwe need to forward th...</td>\n",
       "      <td>0</td>\n",
       "    </tr>\n",
       "    <tr>\n",
       "      <th>339</th>\n",
       "      <td>Subject: enron net works\\nit is becoming incre...</td>\n",
       "      <td>0</td>\n",
       "    </tr>\n",
       "    <tr>\n",
       "      <th>133</th>\n",
       "      <td>Subject: rockets schedule\\nthe schedule is att...</td>\n",
       "      <td>0</td>\n",
       "    </tr>\n",
       "    <tr>\n",
       "      <th>2602</th>\n",
       "      <td>Subject: lagrangian\\nchaney , !\\n75 % off for ...</td>\n",
       "      <td>1</td>\n",
       "    </tr>\n",
       "    <tr>\n",
       "      <th>4396</th>\n",
       "      <td>Subject: guadalupe power partners - march 01 p...</td>\n",
       "      <td>0</td>\n",
       "    </tr>\n",
       "  </tbody>\n",
       "</table>\n",
       "<p>1552 rows × 2 columns</p>\n",
       "</div>"
      ],
      "text/plain": [
       "                                                 emails  target\n",
       "2020  Subject: hpl nomination for 02 / 23 / 2000\\nse...       0\n",
       "3010  Subject: resume - anna cola\\nanna cola is thro...       0\n",
       "2598  Subject: team room\\n- - - - - - - - - - - - - ...       0\n",
       "1757  Subject: calpine daily and monthly gas nominat...       0\n",
       "3264  Subject: 9 th noms\\n- - - - - - - - - - - - - ...       0\n",
       "...                                                 ...     ...\n",
       "3687  Subject: tenaska 2 / 01\\nwe need to forward th...       0\n",
       "339   Subject: enron net works\\nit is becoming incre...       0\n",
       "133   Subject: rockets schedule\\nthe schedule is att...       0\n",
       "2602  Subject: lagrangian\\nchaney , !\\n75 % off for ...       1\n",
       "4396  Subject: guadalupe power partners - march 01 p...       0\n",
       "\n",
       "[1552 rows x 2 columns]"
      ]
     },
     "execution_count": 17,
     "metadata": {},
     "output_type": "execute_result"
    }
   ],
   "source": [
    "#view data\n",
    "testing"
   ]
  },
  {
   "cell_type": "code",
   "execution_count": 94,
   "metadata": {},
   "outputs": [
    {
     "data": {
      "text/plain": [
       "(array([], dtype=int64), array([], dtype=int64))"
      ]
     },
     "execution_count": 94,
     "metadata": {},
     "output_type": "execute_result"
    }
   ],
   "source": [
    "#look for null values\n",
    "np.where(pd.isnull(emailCom))\n",
    "#look for empty cells in the email column\n",
    "np.where(emailCom.applymap(lambda x: x ==\"\"))"
   ]
  },
  {
   "cell_type": "code",
   "execution_count": 20,
   "metadata": {},
   "outputs": [
    {
     "data": {
      "text/plain": [
       "3621"
      ]
     },
     "execution_count": 20,
     "metadata": {},
     "output_type": "execute_result"
    }
   ],
   "source": [
    "#chaeck data is split correctly\n",
    "# is 70 percent\n",
    "X_train.size"
   ]
  },
  {
   "cell_type": "code",
   "execution_count": 21,
   "metadata": {},
   "outputs": [
    {
     "data": {
      "text/plain": [
       "1552"
      ]
     },
     "execution_count": 21,
     "metadata": {},
     "output_type": "execute_result"
    }
   ],
   "source": [
    "X_test.size #is 30 percent"
   ]
  },
  {
   "cell_type": "code",
   "execution_count": 22,
   "metadata": {},
   "outputs": [
    {
     "data": {
      "text/plain": [
       "0.2925257731958763"
      ]
     },
     "execution_count": 22,
     "metadata": {},
     "output_type": "execute_result"
    }
   ],
   "source": [
    "Y_test.mean() # 29% spam, 71% ham"
   ]
  },
  {
   "cell_type": "code",
   "execution_count": 23,
   "metadata": {},
   "outputs": [
    {
     "data": {
      "text/plain": [
       "2311    0\n",
       "1023    1\n",
       "3263    0\n",
       "4395    0\n",
       "1268    1\n",
       "Name: target, dtype: int64"
      ]
     },
     "execution_count": 23,
     "metadata": {},
     "output_type": "execute_result"
    }
   ],
   "source": [
    "Y_train.head()  #same again"
   ]
  },
  {
   "cell_type": "code",
   "execution_count": 24,
   "metadata": {},
   "outputs": [
    {
     "data": {
      "text/html": [
       "<div>\n",
       "<style scoped>\n",
       "    .dataframe tbody tr th:only-of-type {\n",
       "        vertical-align: middle;\n",
       "    }\n",
       "\n",
       "    .dataframe tbody tr th {\n",
       "        vertical-align: top;\n",
       "    }\n",
       "\n",
       "    .dataframe thead th {\n",
       "        text-align: right;\n",
       "    }\n",
       "</style>\n",
       "<table border=\"1\" class=\"dataframe\">\n",
       "  <thead>\n",
       "    <tr style=\"text-align: right;\">\n",
       "      <th></th>\n",
       "      <th>emails</th>\n",
       "      <th>target</th>\n",
       "    </tr>\n",
       "  </thead>\n",
       "  <tbody>\n",
       "    <tr>\n",
       "      <th>0</th>\n",
       "      <td>Subject: cute gals seeking love\\nfinally a pla...</td>\n",
       "      <td>1</td>\n",
       "    </tr>\n",
       "    <tr>\n",
       "      <th>1</th>\n",
       "      <td>Subject: lst rev mar . 2000 josey ranch nom\\n-...</td>\n",
       "      <td>0</td>\n",
       "    </tr>\n",
       "    <tr>\n",
       "      <th>2</th>\n",
       "      <td>Subject: meter 981594 - san jacinto low pressu...</td>\n",
       "      <td>0</td>\n",
       "    </tr>\n",
       "    <tr>\n",
       "      <th>3</th>\n",
       "      <td>Subject: duke cashout entries 5 / 00 and 6 / 0...</td>\n",
       "      <td>0</td>\n",
       "    </tr>\n",
       "    <tr>\n",
       "      <th>4</th>\n",
       "      <td>Subject: v - i - a - g - r - a is lousy ? ? ? ...</td>\n",
       "      <td>1</td>\n",
       "    </tr>\n",
       "  </tbody>\n",
       "</table>\n",
       "</div>"
      ],
      "text/plain": [
       "                                              emails  target\n",
       "0  Subject: cute gals seeking love\\nfinally a pla...       1\n",
       "1  Subject: lst rev mar . 2000 josey ranch nom\\n-...       0\n",
       "2  Subject: meter 981594 - san jacinto low pressu...       0\n",
       "3  Subject: duke cashout entries 5 / 00 and 6 / 0...       0\n",
       "4  Subject: v - i - a - g - r - a is lousy ? ? ? ...       1"
      ]
     },
     "execution_count": 24,
     "metadata": {},
     "output_type": "execute_result"
    }
   ],
   "source": [
    "emailCom.head()"
   ]
  },
  {
   "cell_type": "code",
   "execution_count": 25,
   "metadata": {},
   "outputs": [],
   "source": [
    "#isolate the spam emails \n",
    "allSpam = ' '.join(training[training['target']==1]['emails'])"
   ]
  },
  {
   "cell_type": "markdown",
   "metadata": {},
   "source": [
    "https://www.datacamp.com/community/tutorials/wordcloud-python\n",
    "word cloud source"
   ]
  },
  {
   "cell_type": "code",
   "execution_count": 26,
   "metadata": {
    "scrolled": false
   },
   "outputs": [
    {
     "data": {
      "image/png": "[encoded data removed]",
      "text/plain": [
       "<Figure size 432x288 with 1 Axes>"
      ]
     },
     "metadata": {
      "needs_background": "light"
     },
     "output_type": "display_data"
    }
   ],
   "source": [
    "#wordcloud of top 20 spam words pre- stop word implementation\n",
    "spamfig = WordCloud(max_font_size=70, max_words=20, background_color=\"white\").generate(allSpam)\n",
    "plt.figure()\n",
    "plt.imshow(spamfig)\n",
    "plt.axis('off')\n",
    "plt.tight_layout(pad=0)\n",
    "plt.show()"
   ]
  },
  {
   "cell_type": "markdown",
   "metadata": {},
   "source": [
    "The first step in feature extraction is the use of stop words to allow for removal of frequent words that woulkd be likely to appear in both spam and non-spam emails, this includes words like subject, email style farewells and deashes, etc.\n",
    "the Lemmatize function is used to change all words to lower case so they aren't counted in their different forms.\n",
    "Tokenizer is used to split emails into  individual words and emove punctuationn.\n",
    "These functions are used on both test and train files, and thge test file is retained until the end.\n",
    "From the sk.learn package TFIDF Bag of words and Bag Of Words. bag of words measures the occurance of words, and Tfidf creates a set of vecotrs containing count of word occurances, and mesures how relevant a word is to the selected email in the collection. this is done by multiplying \"times word appears\" by \"inverse document frequency across the dataset\""
   ]
  },
  {
   "cell_type": "code",
   "execution_count": 27,
   "metadata": {},
   "outputs": [],
   "source": [
    "#set stop words function, remove words/symbols/stray letters which are common\n",
    "#displays list of removed words\n",
    "#waste of space to print but there if necessery, it will be ### out in the report\n",
    "sw = set(stopwords.words('english'))\n",
    "newStopWords = (['subject','email','looking','yours','regards','best','-', '_','u','a','e','kind','www'])\n",
    "sws =sw.union(newStopWords)\n",
    "#print(sws)"
   ]
  },
  {
   "cell_type": "code",
   "execution_count": 28,
   "metadata": {},
   "outputs": [
    {
     "data": {
      "image/png": "[encoded data removed]",
      "text/plain": [
       "<Figure size 432x288 with 1 Axes>"
      ]
     },
     "metadata": {
      "needs_background": "light"
     },
     "output_type": "display_data"
    }
   ],
   "source": [
    "#spam wordcloud with stop words implemented, stopwords= sws\n",
    "spamfigclean = WordCloud(stopwords=sws, max_font_size = 70,  max_words=20, background_color=\"white\").generate(allSpam)\n",
    "plt.figure()\n",
    "plt.imshow(spamfigclean, interpolation='bilinear')\n",
    "plt.axis('off')\n",
    "plt.show()"
   ]
  },
  {
   "cell_type": "markdown",
   "metadata": {},
   "source": [
    "https://www.machinelearningplus.com/nlp/lemmatization-examples-python/ - for lemmatize\n",
    "https://www.nltk.org/_modules/nltk/tokenize/regexp.html - for Tokenization"
   ]
  },
  {
   "cell_type": "code",
   "execution_count": 95,
   "metadata": {},
   "outputs": [],
   "source": [
    "#perform on both trian and test\n",
    "lowerCase= WordNetLemmatizer()\n",
    "tokentext = RegexpTokenizer(r'\\w+')\n",
    "\n",
    "def lematize(text):\n",
    "    return [lowerCase.lemmatize(w) for w in tokentext.tokenize(text)]\n",
    "\n",
    "X_train_lowerCase = X_train.apply(lematize)\n",
    "X_train_clean = X_train_lowerCase.apply(lambda x: ' '.join([word for word in x if word.lower() not in sws]))\n",
    "\n",
    "X_test_lowerCase = X_test.apply(lematize)\n",
    "X_test_clean = X_test_lowerCase.apply(lambda x: ' '.join([word for word in x if word.lower() not in sws]))"
   ]
  },
  {
   "cell_type": "code",
   "execution_count": 30,
   "metadata": {},
   "outputs": [
    {
     "data": {
      "text/plain": [
       "2311    final cp name change merger report 08 00 clari...\n",
       "1023    russian girl sex teen hi jody young russian te...\n",
       "3263    hpl nom june 7 2000 see attached file hplo 607...\n",
       "4395    ua 4 status meter howard b camp 01 28 2000 07 ...\n",
       "1268    cfp int conf web delivering music wedelmusic 2...\n",
       "Name: emails, dtype: object"
      ]
     },
     "execution_count": 30,
     "metadata": {},
     "output_type": "execute_result"
    }
   ],
   "source": [
    "#check X_trian_clean afetr processing above\n",
    "X_train_clean.head()"
   ]
  },
  {
   "cell_type": "code",
   "execution_count": 91,
   "metadata": {},
   "outputs": [],
   "source": [
    "#create another pandas dataset\n",
    "train_clean = pd.concat([X_train_clean, Y_train],axis=1)\n",
    "train_clean.columns = ['emails','target']"
   ]
  },
  {
   "cell_type": "markdown",
   "metadata": {},
   "source": [
    "https://scikit-learn.org/stable/modules/generated/sklearn.feature_extraction.text.CountVectorizer.html "
   ]
  },
  {
   "cell_type": "code",
   "execution_count": 32,
   "metadata": {},
   "outputs": [
    {
     "data": {
      "text/plain": [
       "(3621, 891)"
      ]
     },
     "execution_count": 32,
     "metadata": {},
     "output_type": "execute_result"
    }
   ],
   "source": [
    "#countVectorizer assigns an identifier to each word\n",
    "vectorGrp = CountVectorizer(min_df=5, ngram_range=(1,2), analyzer='char_wb')\n",
    "Xvec_word = vectorGrp.fit_transform(np.array(X_train_clean))\n",
    "Xvec_word.shape"
   ]
  },
  {
   "cell_type": "code",
   "execution_count": 33,
   "metadata": {},
   "outputs": [
    {
     "name": "stdout",
     "output_type": "stream",
     "text": [
      "[[84  2  0 ...  0  0  0]\n",
      " [84  0  0 ...  0  0  0]\n",
      " [28  0  0 ...  0  0  0]\n",
      " ...\n",
      " [68  0  1 ...  0  0  0]\n",
      " [84  4  1 ...  0  0  0]\n",
      " [76  2  2 ...  0  0  0]]\n"
     ]
    }
   ],
   "source": [
    "#convert from array to matrix\n",
    "#rows = number of emails \n",
    "#columns= ids mentioned prior\n",
    "matrixGrp = Xvec_word.toarray()\n",
    "print(matrixGrp)"
   ]
  },
  {
   "cell_type": "code",
   "execution_count": 34,
   "metadata": {},
   "outputs": [
    {
     "data": {
      "text/plain": [
       "(3621, 891)"
      ]
     },
     "execution_count": 34,
     "metadata": {},
     "output_type": "execute_result"
    }
   ],
   "source": [
    "#get the shape of new matrix\n",
    "matrixGrp.shape"
   ]
  },
  {
   "cell_type": "markdown",
   "metadata": {},
   "source": [
    "https://scikit-learn.org/stable/modules/generated/sklearn.feature_extraction.text.TfidfVectorizer.html"
   ]
  },
  {
   "cell_type": "code",
   "execution_count": 35,
   "metadata": {},
   "outputs": [],
   "source": [
    "#tf-idf converts raw data to matrix of equations\n",
    "#converted to np.array to give shape to the transformed document\n",
    "transformVec = TfidfVectorizer(min_df=5, ngram_range= (1,2), analyzer= 'char_wb')\n",
    "XVecTransform = transformVec.fit_transform(X_train_clean)\n",
    "\n",
    "NN = np.array(transformVec.get_feature_names())\n",
    "sort_vec = XVecTransform.max(0).toarray()[0].argsort()"
   ]
  },
  {
   "cell_type": "code",
   "execution_count": 36,
   "metadata": {},
   "outputs": [
    {
     "name": "stdout",
     "output_type": "stream",
     "text": [
      "[[0.75901988 0.02922309 0.         ... 0.         0.         0.        ]\n",
      " [0.77612243 0.         0.         ... 0.         0.         0.        ]\n",
      " [0.75316978 0.         0.         ... 0.         0.         0.        ]\n",
      " ...\n",
      " [0.75194906 0.         0.0161769  ... 0.         0.         0.        ]\n",
      " [0.79382918 0.06112657 0.01382495 ... 0.         0.         0.        ]\n",
      " [0.77911273 0.03315423 0.02999386 ... 0.         0.         0.        ]]\n"
     ]
    }
   ],
   "source": [
    "VecF = XVecTransform.toarray()\n",
    "print(VecF)"
   ]
  },
  {
   "cell_type": "code",
   "execution_count": 37,
   "metadata": {},
   "outputs": [
    {
     "data": {
      "text/html": [
       "<div>\n",
       "<style scoped>\n",
       "    .dataframe tbody tr th:only-of-type {\n",
       "        vertical-align: middle;\n",
       "    }\n",
       "\n",
       "    .dataframe tbody tr th {\n",
       "        vertical-align: top;\n",
       "    }\n",
       "\n",
       "    .dataframe thead th {\n",
       "        text-align: right;\n",
       "    }\n",
       "</style>\n",
       "<table border=\"1\" class=\"dataframe\">\n",
       "  <thead>\n",
       "    <tr style=\"text-align: right;\">\n",
       "      <th></th>\n",
       "      <th>emails</th>\n",
       "      <th>target</th>\n",
       "    </tr>\n",
       "  </thead>\n",
       "  <tbody>\n",
       "    <tr>\n",
       "      <th>2311</th>\n",
       "      <td>final cp name change merger report 08 00 clari...</td>\n",
       "      <td>0</td>\n",
       "    </tr>\n",
       "    <tr>\n",
       "      <th>1023</th>\n",
       "      <td>russian girl sex teen hi jody young russian te...</td>\n",
       "      <td>1</td>\n",
       "    </tr>\n",
       "    <tr>\n",
       "      <th>3263</th>\n",
       "      <td>hpl nom june 7 2000 see attached file hplo 607...</td>\n",
       "      <td>0</td>\n",
       "    </tr>\n",
       "    <tr>\n",
       "      <th>4395</th>\n",
       "      <td>ua 4 status meter howard b camp 01 28 2000 07 ...</td>\n",
       "      <td>0</td>\n",
       "    </tr>\n",
       "    <tr>\n",
       "      <th>1268</th>\n",
       "      <td>cfp int conf web delivering music wedelmusic 2...</td>\n",
       "      <td>1</td>\n",
       "    </tr>\n",
       "  </tbody>\n",
       "</table>\n",
       "</div>"
      ],
      "text/plain": [
       "                                                 emails  target\n",
       "2311  final cp name change merger report 08 00 clari...       0\n",
       "1023  russian girl sex teen hi jody young russian te...       1\n",
       "3263  hpl nom june 7 2000 see attached file hplo 607...       0\n",
       "4395  ua 4 status meter howard b camp 01 28 2000 07 ...       0\n",
       "1268  cfp int conf web delivering music wedelmusic 2...       1"
      ]
     },
     "execution_count": 37,
     "metadata": {},
     "output_type": "execute_result"
    }
   ],
   "source": [
    "train_clean.head()"
   ]
  },
  {
   "cell_type": "markdown",
   "metadata": {},
   "source": [
    "## Exploratory Data Analysis (EDA)\n",
    "We look at diiferent aspeact of the cleansed data, including top 20 words pre and post cleaning, a boxplot to see which emails have longer lengths and where the longest email is located"
   ]
  },
  {
   "cell_type": "code",
   "execution_count": 39,
   "metadata": {},
   "outputs": [
    {
     "data": {
      "text/plain": [
       "<AxesSubplot:xlabel='Word'>"
      ]
     },
     "execution_count": 39,
     "metadata": {},
     "output_type": "execute_result"
    },
    {
     "data": {
      "image/png": "[encoded data removed]",
      "text/plain": [
       "<Figure size 1152x648 with 1 Axes>"
      ]
     },
     "metadata": {
      "needs_background": "light"
     },
     "output_type": "display_data"
    }
   ],
   "source": [
    "spamTotal = ' '.join(train_clean[train_clean['target']==1]['emails'])\n",
    "spamT20 = collections.Counter(spamTotal.split()).most_common(20)\n",
    "spam20=pd.DataFrame(spamT20, columns = ['Word', 'Count'])\n",
    "plt.xticks\n",
    "plt.rcParams['figure.figsize'] = 16,9\n",
    "spam20.plot.bar(x='Word',y='Count')"
   ]
  },
  {
   "cell_type": "code",
   "execution_count": 40,
   "metadata": {},
   "outputs": [
    {
     "data": {
      "text/html": [
       "<div>\n",
       "<style scoped>\n",
       "    .dataframe tbody tr th:only-of-type {\n",
       "        vertical-align: middle;\n",
       "    }\n",
       "\n",
       "    .dataframe tbody tr th {\n",
       "        vertical-align: top;\n",
       "    }\n",
       "\n",
       "    .dataframe thead th {\n",
       "        text-align: right;\n",
       "    }\n",
       "</style>\n",
       "<table border=\"1\" class=\"dataframe\">\n",
       "  <thead>\n",
       "    <tr style=\"text-align: right;\">\n",
       "      <th></th>\n",
       "      <th>Word</th>\n",
       "      <th>Count</th>\n",
       "    </tr>\n",
       "  </thead>\n",
       "  <tbody>\n",
       "    <tr>\n",
       "      <th>0</th>\n",
       "      <td>company</td>\n",
       "      <td>667</td>\n",
       "    </tr>\n",
       "    <tr>\n",
       "      <th>1</th>\n",
       "      <td>http</td>\n",
       "      <td>624</td>\n",
       "    </tr>\n",
       "    <tr>\n",
       "      <th>2</th>\n",
       "      <td>com</td>\n",
       "      <td>616</td>\n",
       "    </tr>\n",
       "    <tr>\n",
       "      <th>3</th>\n",
       "      <td>2</td>\n",
       "      <td>544</td>\n",
       "    </tr>\n",
       "    <tr>\n",
       "      <th>4</th>\n",
       "      <td>3</td>\n",
       "      <td>532</td>\n",
       "    </tr>\n",
       "    <tr>\n",
       "      <th>5</th>\n",
       "      <td>price</td>\n",
       "      <td>488</td>\n",
       "    </tr>\n",
       "    <tr>\n",
       "      <th>6</th>\n",
       "      <td>1</td>\n",
       "      <td>476</td>\n",
       "    </tr>\n",
       "    <tr>\n",
       "      <th>7</th>\n",
       "      <td>0</td>\n",
       "      <td>435</td>\n",
       "    </tr>\n",
       "    <tr>\n",
       "      <th>8</th>\n",
       "      <td>00</td>\n",
       "      <td>379</td>\n",
       "    </tr>\n",
       "    <tr>\n",
       "      <th>9</th>\n",
       "      <td>nbsp</td>\n",
       "      <td>373</td>\n",
       "    </tr>\n",
       "  </tbody>\n",
       "</table>\n",
       "</div>"
      ],
      "text/plain": [
       "      Word  Count\n",
       "0  company    667\n",
       "1     http    624\n",
       "2      com    616\n",
       "3        2    544\n",
       "4        3    532\n",
       "5    price    488\n",
       "6        1    476\n",
       "7        0    435\n",
       "8       00    379\n",
       "9     nbsp    373"
      ]
     },
     "execution_count": 40,
     "metadata": {},
     "output_type": "execute_result"
    }
   ],
   "source": [
    "#top 10 spam words\n",
    "spam20.head(10)"
   ]
  },
  {
   "cell_type": "code",
   "execution_count": 41,
   "metadata": {},
   "outputs": [
    {
     "data": {
      "image/png": "[encoded data removed]",
      "text/plain": [
       "<Figure size 1152x648 with 1 Axes>"
      ]
     },
     "metadata": {
      "needs_background": "light"
     },
     "output_type": "display_data"
    }
   ],
   "source": [
    "seriesChange = spam20['Count']/sum(spam20['Count'])\n",
    "indxRng = range(20)\n",
    "plt.bar(indxRng, seriesChange*100)\n",
    "plt.ylabel('%')\n",
    "plt.title('Relative Frequency of Top 20 spam')\n",
    "plt.xticks(indxRng,spam20['Word'])\n",
    "figsize=(16,9)"
   ]
  },
  {
   "cell_type": "code",
   "execution_count": 42,
   "metadata": {},
   "outputs": [
    {
     "data": {
      "text/plain": [
       "<AxesSubplot:xlabel='Word'>"
      ]
     },
     "execution_count": 42,
     "metadata": {},
     "output_type": "execute_result"
    },
    {
     "data": {
      "image/png": "[encoded data removed]",
      "text/plain": [
       "<Figure size 1152x648 with 1 Axes>"
      ]
     },
     "metadata": {
      "needs_background": "light"
     },
     "output_type": "display_data"
    }
   ],
   "source": [
    "#bar chart of most frequently used words vs word count for non-spam\n",
    "hamTotal = ' '.join(train_clean[train_clean['target']==0]['emails'])\n",
    "hamT20 = collections.Counter(hamTotal.split()).most_common(20)\n",
    "ham20=pd.DataFrame(hamT20, columns = ['Word', 'Count'])\n",
    "plt.rcParams['figure.figsize'] = 16,9\n",
    "ham20.plot.bar(x='Word',y='Count')"
   ]
  },
  {
   "cell_type": "code",
   "execution_count": 43,
   "metadata": {},
   "outputs": [
    {
     "data": {
      "text/html": [
       "<div>\n",
       "<style scoped>\n",
       "    .dataframe tbody tr th:only-of-type {\n",
       "        vertical-align: middle;\n",
       "    }\n",
       "\n",
       "    .dataframe tbody tr th {\n",
       "        vertical-align: top;\n",
       "    }\n",
       "\n",
       "    .dataframe thead th {\n",
       "        text-align: right;\n",
       "    }\n",
       "</style>\n",
       "<table border=\"1\" class=\"dataframe\">\n",
       "  <thead>\n",
       "    <tr style=\"text-align: right;\">\n",
       "      <th></th>\n",
       "      <th>Word</th>\n",
       "      <th>Count</th>\n",
       "    </tr>\n",
       "  </thead>\n",
       "  <tbody>\n",
       "    <tr>\n",
       "      <th>0</th>\n",
       "      <td>ect</td>\n",
       "      <td>9694</td>\n",
       "    </tr>\n",
       "    <tr>\n",
       "      <th>1</th>\n",
       "      <td>hou</td>\n",
       "      <td>5086</td>\n",
       "    </tr>\n",
       "    <tr>\n",
       "      <th>2</th>\n",
       "      <td>enron</td>\n",
       "      <td>4678</td>\n",
       "    </tr>\n",
       "    <tr>\n",
       "      <th>3</th>\n",
       "      <td>2000</td>\n",
       "      <td>3110</td>\n",
       "    </tr>\n",
       "    <tr>\n",
       "      <th>4</th>\n",
       "      <td>deal</td>\n",
       "      <td>2539</td>\n",
       "    </tr>\n",
       "    <tr>\n",
       "      <th>5</th>\n",
       "      <td>meter</td>\n",
       "      <td>2057</td>\n",
       "    </tr>\n",
       "    <tr>\n",
       "      <th>6</th>\n",
       "      <td>gas</td>\n",
       "      <td>1936</td>\n",
       "    </tr>\n",
       "    <tr>\n",
       "      <th>7</th>\n",
       "      <td>please</td>\n",
       "      <td>1911</td>\n",
       "    </tr>\n",
       "    <tr>\n",
       "      <th>8</th>\n",
       "      <td>cc</td>\n",
       "      <td>1708</td>\n",
       "    </tr>\n",
       "    <tr>\n",
       "      <th>9</th>\n",
       "      <td>hpl</td>\n",
       "      <td>1667</td>\n",
       "    </tr>\n",
       "  </tbody>\n",
       "</table>\n",
       "</div>"
      ],
      "text/plain": [
       "     Word  Count\n",
       "0     ect   9694\n",
       "1     hou   5086\n",
       "2   enron   4678\n",
       "3    2000   3110\n",
       "4    deal   2539\n",
       "5   meter   2057\n",
       "6     gas   1936\n",
       "7  please   1911\n",
       "8      cc   1708\n",
       "9     hpl   1667"
      ]
     },
     "execution_count": 43,
     "metadata": {},
     "output_type": "execute_result"
    }
   ],
   "source": [
    "#view non-spam top 10 words\n",
    "ham20.head(10)"
   ]
  },
  {
   "cell_type": "code",
   "execution_count": 44,
   "metadata": {},
   "outputs": [
    {
     "data": {
      "image/png": "[encoded data removed]",
      "text/plain": [
       "<Figure size 1152x648 with 1 Axes>"
      ]
     },
     "metadata": {
      "needs_background": "light"
     },
     "output_type": "display_data"
    }
   ],
   "source": [
    "#frequency bar chart of the top 20 non-spam words\n",
    "seriesChange1 = ham20['Count']/sum(ham20['Count'])\n",
    "indxRng1 = range(20)\n",
    "plt.bar(indxRng1, seriesChange1*100)\n",
    "plt.xlabel(\"Word\")\n",
    "plt.ylabel('%')\n",
    "plt.title('Relative Frequncy of Top 20 ham')\n",
    "plt.xticks(indxRng1,ham20['Word'])\n",
    "figsize=(16,9)"
   ]
  },
  {
   "cell_type": "code",
   "execution_count": 45,
   "metadata": {},
   "outputs": [
    {
     "data": {
      "text/html": [
       "<div>\n",
       "<style scoped>\n",
       "    .dataframe tbody tr th:only-of-type {\n",
       "        vertical-align: middle;\n",
       "    }\n",
       "\n",
       "    .dataframe tbody tr th {\n",
       "        vertical-align: top;\n",
       "    }\n",
       "\n",
       "    .dataframe thead th {\n",
       "        text-align: right;\n",
       "    }\n",
       "</style>\n",
       "<table border=\"1\" class=\"dataframe\">\n",
       "  <thead>\n",
       "    <tr style=\"text-align: right;\">\n",
       "      <th></th>\n",
       "      <th>emails</th>\n",
       "      <th>target</th>\n",
       "      <th>length</th>\n",
       "      <th>Class</th>\n",
       "    </tr>\n",
       "  </thead>\n",
       "  <tbody>\n",
       "    <tr>\n",
       "      <th>2311</th>\n",
       "      <td>final cp name change merger report 08 00 clari...</td>\n",
       "      <td>0</td>\n",
       "      <td>264</td>\n",
       "      <td>NonSpam</td>\n",
       "    </tr>\n",
       "    <tr>\n",
       "      <th>1023</th>\n",
       "      <td>russian girl sex teen hi jody young russian te...</td>\n",
       "      <td>1</td>\n",
       "      <td>242</td>\n",
       "      <td>Spam</td>\n",
       "    </tr>\n",
       "    <tr>\n",
       "      <th>3263</th>\n",
       "      <td>hpl nom june 7 2000 see attached file hplo 607...</td>\n",
       "      <td>0</td>\n",
       "      <td>61</td>\n",
       "      <td>NonSpam</td>\n",
       "    </tr>\n",
       "    <tr>\n",
       "      <th>4395</th>\n",
       "      <td>ua 4 status meter howard b camp 01 28 2000 07 ...</td>\n",
       "      <td>0</td>\n",
       "      <td>739</td>\n",
       "      <td>NonSpam</td>\n",
       "    </tr>\n",
       "    <tr>\n",
       "      <th>1268</th>\n",
       "      <td>cfp int conf web delivering music wedelmusic 2...</td>\n",
       "      <td>1</td>\n",
       "      <td>5323</td>\n",
       "      <td>Spam</td>\n",
       "    </tr>\n",
       "  </tbody>\n",
       "</table>\n",
       "</div>"
      ],
      "text/plain": [
       "                                                 emails  target  length  \\\n",
       "2311  final cp name change merger report 08 00 clari...       0     264   \n",
       "1023  russian girl sex teen hi jody young russian te...       1     242   \n",
       "3263  hpl nom june 7 2000 see attached file hplo 607...       0      61   \n",
       "4395  ua 4 status meter howard b camp 01 28 2000 07 ...       0     739   \n",
       "1268  cfp int conf web delivering music wedelmusic 2...       1    5323   \n",
       "\n",
       "        Class  \n",
       "2311  NonSpam  \n",
       "1023     Spam  \n",
       "3263  NonSpam  \n",
       "4395  NonSpam  \n",
       "1268     Spam  "
      ]
     },
     "execution_count": 45,
     "metadata": {},
     "output_type": "execute_result"
    }
   ],
   "source": [
    "#add in email length (for visualisation) and class (for convenience)\n",
    "#will make graphs look better\n",
    "train_clean['length']=train_clean['emails'].str.len()\n",
    "terms = [train_clean['target']==1,train_clean['target']==0]\n",
    "out = ['Spam','NonSpam']\n",
    "train_clean['Class'] = np.select(terms, out)\n",
    "train_clean.head()"
   ]
  },
  {
   "cell_type": "markdown",
   "metadata": {},
   "source": [
    "max length around 21,000 in the spam class\n",
    "this is a major outlier compared to every other data point in both classes\n",
    "boxplot of email length separated by class"
   ]
  },
  {
   "cell_type": "code",
   "execution_count": 46,
   "metadata": {},
   "outputs": [
    {
     "data": {
      "text/plain": [
       "(0.0, 25000.0)"
      ]
     },
     "execution_count": 46,
     "metadata": {},
     "output_type": "execute_result"
    },
    {
     "data": {
      "image/png": "[encoded data removed]",
      "text/plain": [
       "<Figure size 1152x648 with 1 Axes>"
      ]
     },
     "metadata": {},
     "output_type": "display_data"
    }
   ],
   "source": [
    "#using seaborn package\n",
    "sns.set(context='notebook', style='darkgrid')\n",
    "figsize = (10,10)\n",
    "boxP = sns.boxplot(x='Class',y='length', palette='Greens', saturation = 0.2, data=train_clean)\n",
    "boxP.set_ylim([0,25000])"
   ]
  },
  {
   "cell_type": "code",
   "execution_count": 47,
   "metadata": {},
   "outputs": [
    {
     "data": {
      "text/plain": [
       "(0.0, 2000.0)"
      ]
     },
     "execution_count": 47,
     "metadata": {},
     "output_type": "execute_result"
    },
    {
     "data": {
      "image/png": "[encoded data removed]",
      "text/plain": [
       "<Figure size 1152x648 with 1 Axes>"
      ]
     },
     "metadata": {},
     "output_type": "display_data"
    }
   ],
   "source": [
    "#a close up of the boxplot shown above, spam email has an average longer length\n",
    "sns.set(context='notebook', style='darkgrid')\n",
    "figsize = (12,9)\n",
    "boxP = sns.boxplot(x='Class',y='length', palette= \"Reds\",data= train_clean)\n",
    "boxP.set_ylim([0,2000])"
   ]
  },
  {
   "cell_type": "code",
   "execution_count": 48,
   "metadata": {},
   "outputs": [
    {
     "data": {
      "text/html": [
       "<div>\n",
       "<style scoped>\n",
       "    .dataframe tbody tr th:only-of-type {\n",
       "        vertical-align: middle;\n",
       "    }\n",
       "\n",
       "    .dataframe tbody tr th {\n",
       "        vertical-align: top;\n",
       "    }\n",
       "\n",
       "    .dataframe thead th {\n",
       "        text-align: right;\n",
       "    }\n",
       "</style>\n",
       "<table border=\"1\" class=\"dataframe\">\n",
       "  <thead>\n",
       "    <tr style=\"text-align: right;\">\n",
       "      <th></th>\n",
       "      <th>emails</th>\n",
       "      <th>target</th>\n",
       "      <th>length</th>\n",
       "      <th>Class</th>\n",
       "    </tr>\n",
       "  </thead>\n",
       "  <tbody>\n",
       "    <tr>\n",
       "      <th>4260</th>\n",
       "      <td>got info internet hope cooperate html head tit...</td>\n",
       "      <td>1</td>\n",
       "      <td>10702</td>\n",
       "      <td>Spam</td>\n",
       "    </tr>\n",
       "  </tbody>\n",
       "</table>\n",
       "</div>"
      ],
      "text/plain": [
       "                                                 emails  target  length Class\n",
       "4260  got info internet hope cooperate html head tit...       1   10702  Spam"
      ]
     },
     "execution_count": 48,
     "metadata": {},
     "output_type": "execute_result"
    }
   ],
   "source": [
    "#longest email is spam\n",
    "train_clean[train_clean['length']==train_clean['length'].max()]"
   ]
  },
  {
   "cell_type": "code",
   "execution_count": 93,
   "metadata": {},
   "outputs": [
    {
     "data": {
      "text/plain": [
       "[('font', 177), ('height', 146), ('pt', 138), ('td', 128), ('style', 84)]"
      ]
     },
     "execution_count": 93,
     "metadata": {},
     "output_type": "execute_result"
    }
   ],
   "source": [
    "#compute 5 most common words from longest email\n",
    "long = train_clean.loc[4260,'emails']\n",
    "collections.Counter(long.split()).most_common(5)"
   ]
  },
  {
   "cell_type": "markdown",
   "metadata": {},
   "source": [
    "### Supervised Classification\n",
    "Here we look at different types of classifications models multinomial naive bayes, logistic regression, and random forest. we will check the accuracy of the f1 score of each model, while applying count vectorizer and tfidf vectorizer to each model separately to fin the model with the highest accuracy.\n",
    "A validation train test is apploed to the current train_clean dataframe in other to perform a validation on our models."
   ]
  },
  {
   "cell_type": "code",
   "execution_count": 50,
   "metadata": {},
   "outputs": [],
   "source": [
    "#create a train test split for the purpose of cross validation \n",
    "X_train_2, X_val, Y_train_2, Y_val = train_test_split(train_clean['emails'], train_clean['target'], train_size=.71, random_state=862)"
   ]
  },
  {
   "cell_type": "code",
   "execution_count": 51,
   "metadata": {},
   "outputs": [
    {
     "data": {
      "text/plain": [
       "1916    expatriate zone issue 1 2 14 00 expatriate zon...\n",
       "972     hpl nom march 29 2001 see attached file hplno ...\n",
       "989     big cowboy august mary issue confirmed volume ...\n",
       "4924    investor toolbox mcintyre iogn get explode chr...\n",
       "Name: emails, dtype: object"
      ]
     },
     "execution_count": 51,
     "metadata": {},
     "output_type": "execute_result"
    }
   ],
   "source": [
    "#perform some EDA\n",
    "#check parameters are correct\n",
    "X_train_2[1:5]"
   ]
  },
  {
   "cell_type": "code",
   "execution_count": 52,
   "metadata": {},
   "outputs": [
    {
     "data": {
      "text/plain": [
       "count                                                  3621\n",
       "unique                                                 3528\n",
       "top       Subject: calpine daily gas nomination\\n>\\nrick...\n",
       "freq                                                     17\n",
       "Name: emails, dtype: object"
      ]
     },
     "execution_count": 52,
     "metadata": {},
     "output_type": "execute_result"
    }
   ],
   "source": [
    "X_train.describe()"
   ]
  },
  {
   "cell_type": "code",
   "execution_count": 53,
   "metadata": {},
   "outputs": [
    {
     "data": {
      "text/plain": [
       "count     2570\n",
       "unique    2503\n",
       "top           \n",
       "freq        13\n",
       "Name: emails, dtype: object"
      ]
     },
     "execution_count": 53,
     "metadata": {},
     "output_type": "execute_result"
    }
   ],
   "source": [
    "X_train_2.describe()"
   ]
  },
  {
   "cell_type": "code",
   "execution_count": 54,
   "metadata": {},
   "outputs": [
    {
     "data": {
      "text/plain": [
       "2570"
      ]
     },
     "execution_count": 54,
     "metadata": {},
     "output_type": "execute_result"
    }
   ],
   "source": [
    "X_train_2.size"
   ]
  },
  {
   "cell_type": "code",
   "execution_count": 55,
   "metadata": {},
   "outputs": [
    {
     "data": {
      "text/plain": [
       "count                                                  1051\n",
       "unique                                                 1034\n",
       "top       calpine daily gas nomination ricky archer fuel...\n",
       "freq                                                      8\n",
       "Name: emails, dtype: object"
      ]
     },
     "execution_count": 55,
     "metadata": {},
     "output_type": "execute_result"
    }
   ],
   "source": [
    "X_val.describe()"
   ]
  },
  {
   "cell_type": "code",
   "execution_count": 56,
   "metadata": {},
   "outputs": [
    {
     "data": {
      "text/plain": [
       "2570"
      ]
     },
     "execution_count": 56,
     "metadata": {},
     "output_type": "execute_result"
    }
   ],
   "source": [
    "Y_train_2.size"
   ]
  },
  {
   "cell_type": "code",
   "execution_count": 57,
   "metadata": {},
   "outputs": [
    {
     "data": {
      "text/plain": [
       "1051"
      ]
     },
     "execution_count": 57,
     "metadata": {},
     "output_type": "execute_result"
    }
   ],
   "source": [
    "Y_val.size"
   ]
  },
  {
   "cell_type": "markdown",
   "metadata": {},
   "source": [
    "https://www.datacamp.com/community/tutorials/scikit-learn-fake-news"
   ]
  },
  {
   "cell_type": "code",
   "execution_count": 58,
   "metadata": {},
   "outputs": [],
   "source": [
    "#a function for creating good looking confusion matrices\n",
    "#This function prints and plots the confusion matrix.\n",
    "#Normalization can be applied by setting `normalize=True`.\n",
    "\n",
    "def plot_confusion_matrix(cm, classes,\n",
    "                          normalize=False,\n",
    "                          title='Confusion matrix',\n",
    "                          cmap=plt.cm.Reds):\n",
    "    \n",
    "    plt.imshow(cm, interpolation='nearest', cmap=cmap)\n",
    "    plt.title(title)\n",
    "    plt.colorbar()\n",
    "    tick_marks = np.arange(len(classes))\n",
    "    plt.xticks(tick_marks, classes, rotation=45)\n",
    "    plt.yticks(tick_marks, classes)\n",
    "\n",
    "    if normalize:\n",
    "        cm = cm.astype('float') / cm.sum(axis=1)[:, np.newaxis]\n",
    "        print(\"Normalized confusion matrix\")\n",
    "    else:\n",
    "        print('Confusion matrix, without normalization')\n",
    "\n",
    "    thresh = cm.max() / 2.\n",
    "    for i, j in itertools.product(range(cm.shape[0]), range(cm.shape[1])):\n",
    "        plt.text(j, i, cm[i, j],\n",
    "                 horizontalalignment=\"center\",\n",
    "                 color=\"white\" if cm[i, j] > thresh else \"black\")\n",
    "\n",
    "    plt.tight_layout()\n",
    "    plt.ylabel('True label')\n",
    "    plt.xlabel('Predicted label')"
   ]
  },
  {
   "cell_type": "code",
   "execution_count": 59,
   "metadata": {},
   "outputs": [],
   "source": [
    "#the data is now trained as Multinomial bayes model\n",
    "##multinomial bayes model using count vectorizer\n",
    "bag_of_w_vec = CountVectorizer().fit(X_train_2)\n",
    "train2Vec = bag_of_w_vec.transform(X_train_2)\n",
    "MB_bow = MultinomialNB(alpha=0.1)\n",
    "MB_bow.fit(train2Vec,Y_train_2)\n",
    "y_pred = MB_bow.predict(train2Vec)\n",
    "X_bow_val = bag_of_w_vec.transform(X_val)\n",
    "y_val_model = MB_bow.predict(X_bow_val)"
   ]
  },
  {
   "cell_type": "code",
   "execution_count": 60,
   "metadata": {},
   "outputs": [
    {
     "data": {
      "text/plain": [
       "2570"
      ]
     },
     "execution_count": 60,
     "metadata": {},
     "output_type": "execute_result"
    }
   ],
   "source": [
    "y_pred.size"
   ]
  },
  {
   "cell_type": "code",
   "execution_count": 61,
   "metadata": {},
   "outputs": [
    {
     "data": {
      "text/plain": [
       "1051"
      ]
     },
     "execution_count": 61,
     "metadata": {},
     "output_type": "execute_result"
    }
   ],
   "source": [
    "y_val_model.size"
   ]
  },
  {
   "cell_type": "code",
   "execution_count": 62,
   "metadata": {},
   "outputs": [
    {
     "data": {
      "text/plain": [
       "1051"
      ]
     },
     "execution_count": 62,
     "metadata": {},
     "output_type": "execute_result"
    }
   ],
   "source": [
    "X_val.size"
   ]
  },
  {
   "cell_type": "code",
   "execution_count": 63,
   "metadata": {},
   "outputs": [
    {
     "name": "stdout",
     "output_type": "stream",
     "text": [
      "[[760   9]\n",
      " [  7 275]]\n"
     ]
    }
   ],
   "source": [
    "print(confusion_matrix(Y_val, y_val_model))"
   ]
  },
  {
   "cell_type": "code",
   "execution_count": 64,
   "metadata": {},
   "outputs": [
    {
     "name": "stdout",
     "output_type": "stream",
     "text": [
      "Confusion matrix, without normalization\n"
     ]
    },
    {
     "data": {
      "image/png": "[encoded data removed]",
      "text/plain": [
       "<Figure size 1152x648 with 2 Axes>"
      ]
     },
     "metadata": {},
     "output_type": "display_data"
    }
   ],
   "source": [
    "#visualised confusion matrix, the rest will look similar to avove to save on space but this can be \n",
    "#applied to each confusion matrix\n",
    "cm = metrics.confusion_matrix(Y_val, y_val_model, labels=[0,1])\n",
    "plot_confusion_matrix(cm, classes = [0,1])"
   ]
  },
  {
   "cell_type": "code",
   "execution_count": 65,
   "metadata": {},
   "outputs": [
    {
     "name": "stdout",
     "output_type": "stream",
     "text": [
      "              precision    recall  f1-score   support\n",
      "\n",
      "           0     0.9909    0.9883    0.9896       769\n",
      "           1     0.9683    0.9752    0.9717       282\n",
      "\n",
      "    accuracy                         0.9848      1051\n",
      "   macro avg     0.9796    0.9817    0.9807      1051\n",
      "weighted avg     0.9848    0.9848    0.9848      1051\n",
      "\n"
     ]
    }
   ],
   "source": [
    "#classification reort of MNB using count vectorizer\n",
    "print(classification_report(Y_val, y_val_model, digits= 4))"
   ]
  },
  {
   "cell_type": "code",
   "execution_count": 66,
   "metadata": {},
   "outputs": [],
   "source": [
    "pickle.dump(MB_bow, open('MB_count.sav', 'wb'))"
   ]
  },
  {
   "cell_type": "code",
   "execution_count": 67,
   "metadata": {},
   "outputs": [],
   "source": [
    "#multinomial bayes model using tfidf vectoizer\n",
    "tf_vector = TfidfVectorizer().fit(X_train_2)\n",
    "Xtrain_tfidf = tf_vector.transform(X_train_2)\n",
    "tfBayes = MultinomialNB(alpha=0.1)\n",
    "tfBayes.fit(Xtrain_tfidf, Y_train_2)\n",
    "ytrain_tfidf_pred = tfBayes.predict(Xtrain_tfidf)\n",
    "Xval_tfidf = tf_vector.transform(X_val)\n",
    "yval_tfidf = tfBayes.predict(Xval_tfidf)"
   ]
  },
  {
   "cell_type": "code",
   "execution_count": 68,
   "metadata": {},
   "outputs": [
    {
     "name": "stdout",
     "output_type": "stream",
     "text": [
      "[[763   6]\n",
      " [ 15 267]]\n"
     ]
    }
   ],
   "source": [
    "print(confusion_matrix(Y_val, yval_tfidf))"
   ]
  },
  {
   "cell_type": "code",
   "execution_count": 69,
   "metadata": {},
   "outputs": [],
   "source": [
    "#cm = metrics.confusion_matrix(Y_val, yval_tfidf, labels=[0,1])\n",
    "#plot_confusion_matrix(cm, classes = [0,1])"
   ]
  },
  {
   "cell_type": "code",
   "execution_count": 70,
   "metadata": {},
   "outputs": [
    {
     "name": "stdout",
     "output_type": "stream",
     "text": [
      "              precision    recall  f1-score   support\n",
      "\n",
      "           0     0.9807    0.9922    0.9864       769\n",
      "           1     0.9780    0.9468    0.9622       282\n",
      "\n",
      "    accuracy                         0.9800      1051\n",
      "   macro avg     0.9794    0.9695    0.9743      1051\n",
      "weighted avg     0.9800    0.9800    0.9799      1051\n",
      "\n"
     ]
    }
   ],
   "source": [
    "#classification reort of MNB using tfidf vectorizer\n",
    "print(classification_report(Y_val, yval_tfidf, digits= 4))"
   ]
  },
  {
   "cell_type": "code",
   "execution_count": 71,
   "metadata": {},
   "outputs": [],
   "source": [
    "pickle.dump(tfBayes, open('MB_tfidf.sav', 'wb'))"
   ]
  },
  {
   "cell_type": "code",
   "execution_count": 72,
   "metadata": {},
   "outputs": [],
   "source": [
    "##linear regression model using count vectorizer\n",
    "lr1 = CountVectorizer().fit(X_train_2)\n",
    "lr2 = lr1.transform(X_train_2)\n",
    "\n",
    "lr3 = LogisticRegression()\n",
    "lr3.fit(lr2, Y_train_2)\n",
    "lr4 = lr3.predict(lr2)\n",
    "\n",
    "lr5 = lr1.transform(X_val)\n",
    "lr6 = lr3.predict(lr5)"
   ]
  },
  {
   "cell_type": "code",
   "execution_count": 73,
   "metadata": {},
   "outputs": [
    {
     "name": "stdout",
     "output_type": "stream",
     "text": [
      "[[752  17]\n",
      " [ 11 271]]\n"
     ]
    }
   ],
   "source": [
    "print(confusion_matrix(Y_val, lr6))"
   ]
  },
  {
   "cell_type": "code",
   "execution_count": 74,
   "metadata": {},
   "outputs": [],
   "source": [
    "#cm = metrics.confusion_matrix(Y_val, lr6, labels=[1,0])\n",
    "#plot_confusion_matrix(cm, classes = [1,0])"
   ]
  },
  {
   "cell_type": "code",
   "execution_count": 75,
   "metadata": {},
   "outputs": [
    {
     "name": "stdout",
     "output_type": "stream",
     "text": [
      "              precision    recall  f1-score   support\n",
      "\n",
      "           0     0.9856    0.9779    0.9817       769\n",
      "           1     0.9410    0.9610    0.9509       282\n",
      "\n",
      "    accuracy                         0.9734      1051\n",
      "   macro avg     0.9633    0.9694    0.9663      1051\n",
      "weighted avg     0.9736    0.9734    0.9734      1051\n",
      "\n"
     ]
    }
   ],
   "source": [
    "#classification reort of LR using count vectorizer\n",
    "print(classification_report(Y_val, lr6, digits= 4))"
   ]
  },
  {
   "cell_type": "code",
   "execution_count": 76,
   "metadata": {},
   "outputs": [],
   "source": [
    "pickle.dump(lr3, open('LR_count.sav', 'wb'))"
   ]
  },
  {
   "cell_type": "code",
   "execution_count": 77,
   "metadata": {},
   "outputs": [],
   "source": [
    "#linear regression model using tfidf vectorizer\n",
    "lrf1 = TfidfVectorizer().fit(X_train_2)\n",
    "lrf2 = tf_vector.transform(X_train_2)\n",
    "\n",
    "lrf3 = LogisticRegression()\n",
    "lrf3.fit(lrf2, Y_train_2)\n",
    "lrf4 = lrf3.predict(lrf2)\n",
    "\n",
    "lrf5 = lrf1.transform(X_val)\n",
    "lrf6 = lrf3.predict(lrf5)"
   ]
  },
  {
   "cell_type": "code",
   "execution_count": 78,
   "metadata": {},
   "outputs": [
    {
     "name": "stdout",
     "output_type": "stream",
     "text": [
      "              precision    recall  f1-score   support\n",
      "\n",
      "           0     0.9909    0.9870    0.9889       769\n",
      "           1     0.9649    0.9752    0.9700       282\n",
      "\n",
      "    accuracy                         0.9838      1051\n",
      "   macro avg     0.9779    0.9811    0.9795      1051\n",
      "weighted avg     0.9839    0.9838    0.9839      1051\n",
      "\n"
     ]
    }
   ],
   "source": [
    "#classification reort of LR using tfidf vectorizer\n",
    "print(classification_report(Y_val, lrf6, digits= 4))"
   ]
  },
  {
   "cell_type": "code",
   "execution_count": 79,
   "metadata": {},
   "outputs": [],
   "source": [
    "#cm = metrics.confusion_matrix(Y_val, lrf6, labels=[1,0])\n",
    "#plot_confusion_matrix(cm, classes = [1,0])"
   ]
  },
  {
   "cell_type": "code",
   "execution_count": 80,
   "metadata": {},
   "outputs": [],
   "source": [
    "pickle.dump(lrf3, open('LR_tfidf.sav', 'wb'))"
   ]
  },
  {
   "cell_type": "code",
   "execution_count": 81,
   "metadata": {},
   "outputs": [],
   "source": [
    "#random forest using count vectorizer model\n",
    "rf1 = CountVectorizer().fit(X_train_2)\n",
    "rf2 = rf1.transform(X_train_2)\n",
    "\n",
    "rf3 = RFC()\n",
    "rf3.fit(rf2, Y_train_2)\n",
    "rf4 = rf3.predict(rf2)\n",
    "\n",
    "rf5 = rf1.transform(X_val)\n",
    "rf6 = rf3.predict(rf5)"
   ]
  },
  {
   "cell_type": "code",
   "execution_count": 82,
   "metadata": {},
   "outputs": [
    {
     "name": "stdout",
     "output_type": "stream",
     "text": [
      "              precision    recall  f1-score   support\n",
      "\n",
      "           0     0.9855    0.9727    0.9791       769\n",
      "           1     0.9281    0.9610    0.9443       282\n",
      "\n",
      "    accuracy                         0.9696      1051\n",
      "   macro avg     0.9568    0.9668    0.9617      1051\n",
      "weighted avg     0.9701    0.9696    0.9697      1051\n",
      "\n"
     ]
    }
   ],
   "source": [
    "#classification reort of RF using count vectorizer\n",
    "print(classification_report(Y_val, rf6, digits= 4))"
   ]
  },
  {
   "cell_type": "code",
   "execution_count": 83,
   "metadata": {},
   "outputs": [],
   "source": [
    "#cm = metrics.confusion_matrix(Y_val, rf6, labels=[1,0])\n",
    "#plot_confusion_matrix(cm, classes = [1,0])"
   ]
  },
  {
   "cell_type": "code",
   "execution_count": 84,
   "metadata": {},
   "outputs": [],
   "source": [
    "pickle.dump(rf3, open('RF_count.sav', 'wb'))"
   ]
  },
  {
   "cell_type": "code",
   "execution_count": 85,
   "metadata": {},
   "outputs": [
    {
     "data": {
      "image/png": "[encoded data removed]",
      "text/plain": [
       "<Figure size 1152x648 with 1 Axes>"
      ]
     },
     "metadata": {},
     "output_type": "display_data"
    }
   ],
   "source": [
    "# barplot of accuracy of F1 scores of different models\n",
    "fig = plt.figure()\n",
    "ax = fig.add_axes([0,0,1,1])\n",
    "ax.set(ylim=(95,100))\n",
    "langs = ['MBc', 'MBt', 'LRc', 'LRt', 'RFc']\n",
    "f1score = [98.0,97.15,97.24,97.91,96.76]\n",
    "ax.bar(langs,f1score)\n",
    "ax.set_title(\"Validation Accuracy of F1 Scores\")\n",
    "ax.set_ylabel(\"Accuracy (%)\")\n",
    "ax.set_xlabel(\"Method\")\n",
    "plt.show()"
   ]
  },
  {
   "cell_type": "code",
   "execution_count": 97,
   "metadata": {},
   "outputs": [],
   "source": [
    "#check the test set from the beginning using multinomial naive bayes with countVectorizer whihc performed the best\n",
    "MB1 = CountVectorizer().fit(X_train_clean)\n",
    "MB2 = MB1.transform(X_train_clean)\n",
    "MB3 = MultinomialNB(alpha=0.1)\n",
    "MB3.fit(MB2,Y_train)\n",
    "MB4 = MB3.predict(MB2)\n",
    "MB5 = MB1.transform(X_test_clean)\n",
    "MB6 = MB3.predict(MB5)"
   ]
  },
  {
   "cell_type": "code",
   "execution_count": 98,
   "metadata": {},
   "outputs": [
    {
     "name": "stdout",
     "output_type": "stream",
     "text": [
      "              precision    recall  f1-score   support\n",
      "\n",
      "           0     0.9890    0.9791    0.9840      1098\n",
      "           1     0.9505    0.9736    0.9619       454\n",
      "\n",
      "    accuracy                         0.9774      1552\n",
      "   macro avg     0.9697    0.9763    0.9729      1552\n",
      "weighted avg     0.9777    0.9774    0.9775      1552\n",
      "\n"
     ]
    }
   ],
   "source": [
    "print(classification_report(Y_test, MB6, digits= 4))"
   ]
  },
  {
   "cell_type": "code",
   "execution_count": 100,
   "metadata": {},
   "outputs": [
    {
     "name": "stdout",
     "output_type": "stream",
     "text": [
      "Confusion matrix, without normalization\n"
     ]
    },
    {
     "data": {
      "image/png": "[encoded data removed]",
      "text/plain": [
       "<Figure size 1152x648 with 2 Axes>"
      ]
     },
     "metadata": {},
     "output_type": "display_data"
    }
   ],
   "source": [
    "cm = metrics.confusion_matrix(Y_test, MB6, labels=[0,1])\n",
    "plot_confusion_matrix(cm, classes = [0,1])"
   ]
  },
  {
   "cell_type": "code",
   "execution_count": 89,
   "metadata": {},
   "outputs": [],
   "source": [
    "pickle.dump(MB3, open('MB_test_CountVec.sav', 'wb'))"
   ]
  },
  {
   "cell_type": "markdown",
   "metadata": {},
   "source": [
    "Overall 1075 weree correctly classified as non-spam and 442 were classified correctly as spam. \n",
    "23 spam non-spam were misclassified as spam, and 12 spam were misclassified as non-spam.\n",
    "The accuracy of the model was 97.74%."
   ]
  }
 ],
 "metadata": {
  "kernelspec": {
   "display_name": "Python 3",
   "language": "python",
   "name": "python3"
  },
  "language_info": {
   "codemirror_mode": {
    "name": "ipython",
    "version": 3
   },
   "file_extension": ".py",
   "mimetype": "text/x-python",
   "name": "python",
   "nbconvert_exporter": "python",
   "pygments_lexer": "ipython3",
   "version": "3.8.5"
  }
 },
 "nbformat": 4,
 "nbformat_minor": 4
}
